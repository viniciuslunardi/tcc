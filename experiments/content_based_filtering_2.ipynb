{
 "cells": [
  {
   "cell_type": "code",
   "execution_count": 135,
   "metadata": {},
   "outputs": [],
   "source": [
    "import pandas as pd\n"
   ]
  },
  {
   "cell_type": "code",
   "execution_count": 136,
   "metadata": {},
   "outputs": [],
   "source": [
    "gerentes_df = pd.read_excel('../cleaned_dataset_no_percentile_outliers.xlsx')\n",
    "metrics_df = pd.read_excel('metrics.xlsx')"
   ]
  },
  {
   "cell_type": "code",
   "execution_count": 137,
   "metadata": {},
   "outputs": [],
   "source": [
    "# Converter a coluna de categorias em uma string para cada gerente\n",
    "labels = gerentes_df['metrics_category'].fillna('').astype(str)"
   ]
  },
  {
   "cell_type": "code",
   "execution_count": 138,
   "metadata": {},
   "outputs": [],
   "source": [
    "# Substituir valores NaN por string vazia para evitar erros\n",
    "gerentes_df['agile_methods'] = gerentes_df['agile_methods'].fillna('')\n",
    "\n",
    "# Dividir a coluna de métodos ágeis para cada método se tornar um termo único\n",
    "gerentes_df['agile_methods_split'] = gerentes_df['agile_methods'].apply(lambda x: x.split(', '))"
   ]
  },
  {
   "cell_type": "code",
   "execution_count": null,
   "metadata": {},
   "outputs": [],
   "source": [
    "# Explorar os métodos ágeis únicos no dataset\n",
    "unique_methods = set()\n",
    "gerentes_df['agile_methods_split'].apply(unique_methods.update)\n"
   ]
  },
  {
   "cell_type": "markdown",
   "metadata": {},
   "source": [
    "# Outlier detection em metricas ágeis"
   ]
  },
  {
   "cell_type": "code",
   "execution_count": 140,
   "metadata": {},
   "outputs": [],
   "source": [
    "from collections import Counter\n"
   ]
  },
  {
   "cell_type": "code",
   "execution_count": null,
   "metadata": {},
   "outputs": [],
   "source": [
    "# Contar a frequência de cada método ágil\n",
    "all_methods = [method for methods in gerentes_df['agile_methods_split'] for method in methods]\n",
    "methods_counter = Counter(all_methods)\n",
    "\n",
    "# Criar um DataFrame a partir do contador de métodos\n",
    "methods_freq_df = pd.DataFrame(methods_counter.items(), columns=['Method', 'Frequency']).sort_values(by='Frequency', ascending=False)\n",
    "\n",
    "# Mostrar as 5 primeiras linhas\n",
    "methods_freq_df.head()"
   ]
  },
  {
   "cell_type": "code",
   "execution_count": 142,
   "metadata": {},
   "outputs": [],
   "source": [
    "import matplotlib.pyplot as plt\n"
   ]
  },
  {
   "cell_type": "code",
   "execution_count": null,
   "metadata": {},
   "outputs": [],
   "source": [
    "methods_freq_sorted = methods_freq_df.sort_values(by='Frequency', ascending=False)\n",
    "\n",
    "# Extrair os valores para o eixo x (métodos) e y (frequência)\n",
    "methods = methods_freq_sorted['Method']\n",
    "frequencies = methods_freq_sorted['Frequency']\n",
    "\n",
    "# Plotar a distribuição de frequência\n",
    "plt.figure(figsize=(12, 6))\n",
    "plt.plot(range(len(methods)), frequencies, marker='o', linestyle='-', color='blue')\n",
    "plt.xticks(range(len(methods)), methods, rotation=90)\n",
    "plt.xlabel('Agile Methods')\n",
    "plt.ylabel('Frequency')\n",
    "plt.title('Normal Curve Style Frequency Distribution of Agile Methods')\n",
    "plt.grid(True, which='both', linestyle='--', linewidth=0.5)\n",
    "plt.tight_layout()\n",
    "plt.show()"
   ]
  },
  {
   "cell_type": "code",
   "execution_count": 144,
   "metadata": {},
   "outputs": [],
   "source": [
    "# --------------------- Remoção por Desvio Padrão ---------------------\n",
    "\n",
    "mean_frequency = methods_freq_df['Frequency'].mean()\n"
   ]
  },
  {
   "cell_type": "code",
   "execution_count": null,
   "metadata": {},
   "outputs": [],
   "source": [
    "# Identificar os métodos ágeis cuja frequência é menor que 2\n",
    "outliers = methods_freq_df[methods_freq_df['Frequency'] < 2]\n",
    "\n",
    "# Mostrar os métodos identificados como outliers\n",
    "print(\"Métodos Ágeis Identificados como Outliers (Frequência < 2):\")\n",
    "print(outliers)"
   ]
  },
  {
   "cell_type": "code",
   "execution_count": null,
   "metadata": {},
   "outputs": [],
   "source": [
    "# Obter os métodos considerados outliers\n",
    "outliers_methods = set(outliers['Method'])\n",
    "\n",
    "# Remover os métodos ágeis que são outliers da coluna 'agile_methods_split'\n",
    "gerentes_df['agile_methods_filtered'] = gerentes_df['agile_methods_split'].apply(lambda x: [method for method in x if method not in outliers_methods])\n",
    "\n",
    "# Mostrar o dataset atualizado com a coluna de métodos filtrados\n",
    "gerentes_df[['agile_methods', 'agile_methods_filtered']].head()"
   ]
  },
  {
   "cell_type": "code",
   "execution_count": null,
   "metadata": {},
   "outputs": [],
   "source": [
    "# Criar um DataFrame para visualizar os métodos que foram removidos como outliers\n",
    "removed_methods_df = pd.DataFrame(outliers, columns=['Method', 'Frequency'])\n",
    "\n",
    "# Mostrar os métodos removidos\n",
    "print(\"Métodos Ágeis Removidos do Dataset (Outliers):\")\n",
    "print(removed_methods_df)"
   ]
  },
  {
   "cell_type": "code",
   "execution_count": 148,
   "metadata": {},
   "outputs": [],
   "source": [
    "gerentes_df.to_excel('filtered_dataset_metrics.xlsx')"
   ]
  },
  {
   "cell_type": "markdown",
   "metadata": {},
   "source": [
    "# Treinamento"
   ]
  },
  {
   "cell_type": "code",
   "execution_count": 155,
   "metadata": {},
   "outputs": [],
   "source": [
    "filtered_data = pd.read_excel('filtered_data_3.xlsx')"
   ]
  },
  {
   "cell_type": "code",
   "execution_count": null,
   "metadata": {},
   "outputs": [],
   "source": [
    "filtered_data['metrics_category'].fillna('')"
   ]
  },
  {
   "cell_type": "code",
   "execution_count": 161,
   "metadata": {},
   "outputs": [],
   "source": [
    "filtered_data['combined_features'] = (\n",
    "    filtered_data['role'].fillna('') + ' ' +\n",
    "    filtered_data['years_exp'].fillna('') + ' ' +\n",
    "    filtered_data['org_size'].fillna('') + ' ' +\n",
    "    filtered_data['org_field'].fillna('') + ' ' +\n",
    "    filtered_data['agile_methods_filtered'].str.join('') + ' ' +\n",
    "    filtered_data['use_metrics_planning'].fillna('Não') + ' ' +\n",
    "    filtered_data['use_metrics_review'].fillna('Não') + ' ' +\n",
    "    filtered_data['use_metrics_weekly'].fillna('Não') + ' ' +\n",
    "    filtered_data['use_metrics_daily'].fillna('Não') + ' ' +\n",
    "    filtered_data['use_metrics_retro'].fillna('Não')\n",
    ")\n"
   ]
  },
  {
   "cell_type": "code",
   "execution_count": 162,
   "metadata": {},
   "outputs": [],
   "source": [
    "from sklearn.model_selection import train_test_split\n",
    "\n",
    "# Definir as features (X) e o alvo (y)\n",
    "X = filtered_data['combined_features']\n",
    "y = filtered_data['metrics_category']\n",
    "\n",
    "# Dividir os dados em treino e teste\n",
    "X_train, X_test, y_train, y_test = train_test_split(X, y, test_size=0.2, random_state=42)"
   ]
  },
  {
   "cell_type": "code",
   "execution_count": 167,
   "metadata": {},
   "outputs": [],
   "source": [
    "from sklearn.feature_extraction.text import TfidfVectorizer\n",
    "\n",
    "tfidf = TfidfVectorizer(max_features=5000, ngram_range=(1, 2), stop_words='english')\n",
    "X_train_tfidf = tfidf.fit_transform(X_train)\n",
    "X_test_tfidf = tfidf.transform(X_test)"
   ]
  },
  {
   "cell_type": "code",
   "execution_count": 168,
   "metadata": {},
   "outputs": [],
   "source": [
    "X_train = X_train.fillna('')\n",
    "X_test = X_test.fillna('')"
   ]
  },
  {
   "cell_type": "code",
   "execution_count": 170,
   "metadata": {},
   "outputs": [],
   "source": [
    "from sklearn.naive_bayes import MultinomialNB\n",
    "\n",
    "# Inicializar o classificador Naive Bayes\n",
    "classifier = MultinomialNB(alpha=1.0)  # Ajuste de alpha para suavização\n",
    "\n",
    "\n",
    "# Treinar o modelo\n",
    "classifier.fit(X_train_tfidf, y_train)\n",
    "\n",
    "# Fazer previsões no conjunto de teste\n",
    "y_pred = classifier.predict(X_test_tfidf)"
   ]
  },
  {
   "cell_type": "code",
   "execution_count": 174,
   "metadata": {},
   "outputs": [
    {
     "name": "stdout",
     "output_type": "stream",
     "text": [
      "                                                                         precision    recall  f1-score   support\n",
      "\n",
      "                                                 Cronograma e progresso       0.00      0.00      0.00         1\n",
      "                                        Cronograma e progresso, Pessoas       0.00      0.00      0.00         1\n",
      "                              Cronograma e progresso, Pessoas, Processo       0.00      0.00      0.00         1\n",
      "                     Cronograma e progresso, Pessoas, Processo, Cliente       0.00      0.00      0.00         1\n",
      "                               Cronograma e progresso, Pessoas, Produto       0.00      0.00      0.00         2\n",
      "                     Cronograma e progresso, Pessoas, Produto, Processo       0.00      0.00      0.00         2\n",
      "         Cronograma e progresso, Pessoas, Produto, Processo, Tecnologia       0.00      0.00      0.00         2\n",
      "Cronograma e progresso, Pessoas, Produto, Processo, Tecnologia, Cliente       0.03      0.50      0.05         2\n",
      "                   Cronograma e progresso, Pessoas, Produto, Tecnologia       0.00      0.00      0.00         1\n",
      "                            Cronograma e progresso, Pessoas, Tecnologia       0.00      0.00      0.00         2\n",
      "                   Cronograma e progresso, Pessoas, Tecnologia, Cliente       0.00      0.00      0.00         1\n",
      "                                       Cronograma e progresso, Processo       0.00      0.00      0.00         2\n",
      "                           Cronograma e progresso, Processo, Tecnologia       0.00      0.00      0.00         1\n",
      "                                        Cronograma e progresso, Produto       0.00      0.00      0.00         1\n",
      "                              Cronograma e progresso, Produto, Processo       0.00      0.00      0.00         1\n",
      "                     Cronograma e progresso, Produto, Processo, Cliente       0.00      0.00      0.00         1\n",
      "                  Cronograma e progresso, Produto, Processo, Tecnologia       0.00      0.00      0.00         2\n",
      "         Cronograma e progresso, Produto, Processo, Tecnologia, Cliente       0.00      0.00      0.00         2\n",
      "                            Cronograma e progresso, Produto, Tecnologia       0.00      0.00      0.00         2\n",
      "                   Cronograma e progresso, Produto, Tecnologia, Cliente       0.00      0.00      0.00         2\n",
      "                                                       Pessoas, Produto       0.00      0.00      0.00         1\n",
      "                                              Pessoas, Produto, Cliente       0.00      0.00      0.00         2\n",
      "                                    Pessoas, Produto, Processo, Cliente       0.00      0.00      0.00         1\n",
      "                                 Pessoas, Produto, Processo, Tecnologia       0.00      0.00      0.00         1\n",
      "                        Pessoas, Produto, Processo, Tecnologia, Cliente       0.00      0.00      0.00         1\n",
      "                                                                Produto       0.00      0.00      0.00         1\n",
      "                                                       Produto, Cliente       0.00      0.00      0.00         1\n",
      "                                                      Produto, Processo       0.00      0.00      0.00         1\n",
      "                                 Produto, Processo, Tecnologia, Cliente       0.00      0.00      0.00         1\n",
      "                                                    Produto, Tecnologia       0.00      0.00      0.00         1\n",
      "                                                             Tecnologia       0.00      0.00      0.00         1\n",
      "\n",
      "                                                               accuracy                           0.02        42\n",
      "                                                              macro avg       0.00      0.02      0.00        42\n",
      "                                                           weighted avg       0.00      0.02      0.00        42\n",
      "\n"
     ]
    },
    {
     "name": "stderr",
     "output_type": "stream",
     "text": [
      "/Users/viniciuslunardifarias/projects/ufsc/tcc/tcc_env/lib/python3.12/site-packages/sklearn/metrics/_classification.py:1531: UndefinedMetricWarning: Precision is ill-defined and being set to 0.0 in labels with no predicted samples. Use `zero_division` parameter to control this behavior.\n",
      "  _warn_prf(average, modifier, f\"{metric.capitalize()} is\", len(result))\n",
      "/Users/viniciuslunardifarias/projects/ufsc/tcc/tcc_env/lib/python3.12/site-packages/sklearn/metrics/_classification.py:1531: UndefinedMetricWarning: Precision is ill-defined and being set to 0.0 in labels with no predicted samples. Use `zero_division` parameter to control this behavior.\n",
      "  _warn_prf(average, modifier, f\"{metric.capitalize()} is\", len(result))\n",
      "/Users/viniciuslunardifarias/projects/ufsc/tcc/tcc_env/lib/python3.12/site-packages/sklearn/metrics/_classification.py:1531: UndefinedMetricWarning: Precision is ill-defined and being set to 0.0 in labels with no predicted samples. Use `zero_division` parameter to control this behavior.\n",
      "  _warn_prf(average, modifier, f\"{metric.capitalize()} is\", len(result))\n"
     ]
    }
   ],
   "source": [
    "from sklearn.metrics import classification_report\n",
    "\n",
    "# Imprimir o relatório de classificação\n",
    "report = classification_report(y_test, y_pred)\n",
    "print(report)"
   ]
  }
 ],
 "metadata": {
  "kernelspec": {
   "display_name": "tcc_env",
   "language": "python",
   "name": "python3"
  },
  "language_info": {
   "codemirror_mode": {
    "name": "ipython",
    "version": 3
   },
   "file_extension": ".py",
   "mimetype": "text/x-python",
   "name": "python",
   "nbconvert_exporter": "python",
   "pygments_lexer": "ipython3",
   "version": "3.12.2"
  }
 },
 "nbformat": 4,
 "nbformat_minor": 2
}
