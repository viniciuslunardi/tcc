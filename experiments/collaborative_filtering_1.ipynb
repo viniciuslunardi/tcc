{
 "cells": [
  {
   "cell_type": "code",
   "execution_count": 1,
   "metadata": {},
   "outputs": [],
   "source": [
    "import pandas as pd\n",
    "from sklearn.feature_extraction.text import TfidfVectorizer"
   ]
  },
  {
   "cell_type": "code",
   "execution_count": 3,
   "metadata": {},
   "outputs": [],
   "source": [
    "data = pd.read_excel('filtered_data_3.xlsx')"
   ]
  },
  {
   "cell_type": "code",
   "execution_count": 4,
   "metadata": {},
   "outputs": [],
   "source": [
    "data['combined_text'] = data['combined_text'].fillna('')"
   ]
  },
  {
   "cell_type": "code",
   "execution_count": 5,
   "metadata": {},
   "outputs": [],
   "source": [
    "tfidf_vectorizer = TfidfVectorizer()\n",
    "tfidf_matrix = tfidf_vectorizer.fit_transform(data['combined_text'])"
   ]
  },
  {
   "cell_type": "code",
   "execution_count": 6,
   "metadata": {},
   "outputs": [
    {
     "name": "stdout",
     "output_type": "stream",
     "text": [
      "TF-IDF Matrix shape: (210, 132)\n"
     ]
    }
   ],
   "source": [
    "print(\"TF-IDF Matrix shape:\", tfidf_matrix.shape)"
   ]
  },
  {
   "cell_type": "code",
   "execution_count": 7,
   "metadata": {},
   "outputs": [
    {
     "name": "stdout",
     "output_type": "stream",
     "text": [
      "Cosine Similarities shape: (210, 210)\n"
     ]
    }
   ],
   "source": [
    "from sklearn.metrics.pairwise import cosine_similarity\n",
    "\n",
    "# Calcular a similaridade do cosseno\n",
    "cosine_similarities = cosine_similarity(tfidf_matrix)\n",
    "\n",
    "# Mostrar a matriz de similaridade para inspecionar\n",
    "print(\"Cosine Similarities shape:\", cosine_similarities.shape)"
   ]
  },
  {
   "cell_type": "code",
   "execution_count": 11,
   "metadata": {},
   "outputs": [],
   "source": [
    "\n",
    "# Função para recomendar métricas e calcular a porcentagem de similaridade\n",
    "def recommend_metrics_with_similarity(manager_id, cosine_similarities, data, top_n=5):\n",
    "    similar_indices = cosine_similarities[manager_id].argsort()[:-top_n-1:-1]\n",
    "    similar_managers = data.iloc[similar_indices]\n",
    "    \n",
    "    # Extrair métricas utilizadas pelos gerentes similares\n",
    "    metrics_columns = [col for col in data.columns if col.startswith('metric_')]\n",
    "    \n",
    "    metrics_dict = {}\n",
    "    for index in similar_indices:\n",
    "        similarity_score = cosine_similarities[manager_id][index]\n",
    "        manager_metrics = data.iloc[index][metrics_columns].dropna()\n",
    "        \n",
    "        for metric in manager_metrics:\n",
    "            if metric not in metrics_dict:\n",
    "                metrics_dict[metric] = 0\n",
    "            metrics_dict[metric] += similarity_score\n",
    "\n",
    "    # Calcular a porcentagem de similaridade para cada métrica\n",
    "    total_similarity = sum(metrics_dict.values())\n",
    "    metrics_similarity_percentage = {metric: (similarity / total_similarity) * 100 for metric, similarity in metrics_dict.items()}\n",
    "    \n",
    "    return metrics_similarity_percentage"
   ]
  },
  {
   "cell_type": "code",
   "execution_count": 12,
   "metadata": {},
   "outputs": [
    {
     "name": "stdout",
     "output_type": "stream",
     "text": [
      "Recommended metrics with similarity percentages for manager ID 0 : {'Ideal team capacity': np.float64(19.231024440050245), 'CFD': np.float64(8.974330617772194), 'Burndown': np.float64(8.974330617772194), 'CAC': np.float64(8.974330617772194), 'Roadmaps': np.float64(8.974330617772194), 'Throughput': np.float64(8.974330617772194), 'Lead time': np.float64(8.974330617772194), 'Conversão': np.float64(8.974330617772194), 'NPS': np.float64(8.974330617772194), 'Team total available hours': np.float64(8.974330617772194)}\n"
     ]
    }
   ],
   "source": [
    "# Exemplo de recomendação para o gerente com ID 0\n",
    "manager_id = 0\n",
    "recommended_metrics_with_similarity = recommend_metrics_with_similarity(manager_id, cosine_similarities, data)\n",
    "print(\"Recommended metrics with similarity percentages for manager ID\", manager_id, \":\", recommended_metrics_with_similarity)"
   ]
  }
 ],
 "metadata": {
  "kernelspec": {
   "display_name": "tcc_env",
   "language": "python",
   "name": "python3"
  },
  "language_info": {
   "codemirror_mode": {
    "name": "ipython",
    "version": 3
   },
   "file_extension": ".py",
   "mimetype": "text/x-python",
   "name": "python",
   "nbconvert_exporter": "python",
   "pygments_lexer": "ipython3",
   "version": "3.12.2"
  }
 },
 "nbformat": 4,
 "nbformat_minor": 2
}
