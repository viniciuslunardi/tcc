{
 "cells": [
  {
   "cell_type": "code",
   "execution_count": 153,
   "metadata": {},
   "outputs": [],
   "source": [
    "import pandas as pd\n",
    "from sklearn.feature_extraction.text import TfidfVectorizer\n",
    "from sklearn.metrics.pairwise import cosine_similarity\n",
    "from sklearn.model_selection import train_test_split"
   ]
  },
  {
   "cell_type": "code",
   "execution_count": 154,
   "metadata": {},
   "outputs": [],
   "source": [
    "df = pd.read_excel(\"../cleaned_dataset_no_percentile_outliers.xlsx\")\n",
    "df.drop(columns=['Carimbo de data/hora', 'sanitized_metrics'], inplace=True)"
   ]
  },
  {
   "cell_type": "markdown",
   "metadata": {},
   "source": [
    "## Pre-processamento"
   ]
  },
  {
   "cell_type": "code",
   "execution_count": 155,
   "metadata": {},
   "outputs": [],
   "source": [
    "# Juntar todas as colunas de texto que desejamos transformar em uma única coluna\n",
    "textual_cols = [\"role\", \"org_size\", \"org_field\", \"agile_methods\", \"use_metrics_planning\", \n",
    "                \"use_metrics_review\", \"use_metrics_weekly\", \"use_metrics_daily\", \n",
    "                \"use_metrics_retro\", \"use_metrics_na\", \"metrics_category\"]"
   ]
  },
  {
   "cell_type": "code",
   "execution_count": 156,
   "metadata": {},
   "outputs": [],
   "source": [
    "df[\"combined_text\"] = df[textual_cols].fillna('').agg(' '.join, axis=1)"
   ]
  },
  {
   "cell_type": "code",
   "execution_count": 158,
   "metadata": {},
   "outputs": [],
   "source": [
    "metric_cols = [\"metric_1\", \"metric_2\", \"metric_3\", \"metric_4\", \"metric_5\", \"metric_6\", \n",
    "               \"metric_7\", \"metric_8\", \"metric_9\", \"metric_10\", \"metric_11\", \"metric_13\", \n",
    "               \"metric_14\", \"metric_15\", \"metric_16\", \"metric_17\", \"metric_18\"]"
   ]
  },
  {
   "cell_type": "code",
   "execution_count": 159,
   "metadata": {},
   "outputs": [],
   "source": [
    "all_metrics = pd.concat([df[metric_cols].stack()]).unique()"
   ]
  },
  {
   "cell_type": "code",
   "execution_count": 194,
   "metadata": {},
   "outputs": [
    {
     "data": {
      "text/html": [
       "<div>\n",
       "<style scoped>\n",
       "    .dataframe tbody tr th:only-of-type {\n",
       "        vertical-align: middle;\n",
       "    }\n",
       "\n",
       "    .dataframe tbody tr th {\n",
       "        vertical-align: top;\n",
       "    }\n",
       "\n",
       "    .dataframe thead th {\n",
       "        text-align: right;\n",
       "    }\n",
       "</style>\n",
       "<table border=\"1\" class=\"dataframe\">\n",
       "  <thead>\n",
       "    <tr style=\"text-align: right;\">\n",
       "      <th></th>\n",
       "      <th>metric</th>\n",
       "    </tr>\n",
       "  </thead>\n",
       "  <tbody>\n",
       "    <tr>\n",
       "      <th>0</th>\n",
       "      <td>Ideal team capacity</td>\n",
       "    </tr>\n",
       "    <tr>\n",
       "      <th>1</th>\n",
       "      <td>NPS</td>\n",
       "    </tr>\n",
       "    <tr>\n",
       "      <th>2</th>\n",
       "      <td>Burndown</td>\n",
       "    </tr>\n",
       "    <tr>\n",
       "      <th>3</th>\n",
       "      <td>Outstanding bugs</td>\n",
       "    </tr>\n",
       "    <tr>\n",
       "      <th>4</th>\n",
       "      <td>Throughput</td>\n",
       "    </tr>\n",
       "  </tbody>\n",
       "</table>\n",
       "</div>"
      ],
      "text/plain": [
       "                metric\n",
       "0  Ideal team capacity\n",
       "1                  NPS\n",
       "2             Burndown\n",
       "3     Outstanding bugs\n",
       "4           Throughput"
      ]
     },
     "execution_count": 194,
     "metadata": {},
     "output_type": "execute_result"
    }
   ],
   "source": [
    "metrics_df = pd.DataFrame({'metric': all_metrics})\n",
    "metrics_df.to_excel('metrics.xlsx')\n",
    "\n",
    "metrics_df.head()"
   ]
  },
  {
   "cell_type": "code",
   "execution_count": 188,
   "metadata": {},
   "outputs": [],
   "source": [
    "from sklearn.feature_extraction.text import TfidfVectorizer\n",
    "\n",
    "# Vetorizar as características dos gerentes usando TF-IDF\n",
    "tfidf_vectorizer = TfidfVectorizer()\n",
    "manager_vectors = tfidf_vectorizer.fit_transform(df['combined_text'])"
   ]
  },
  {
   "cell_type": "code",
   "execution_count": 189,
   "metadata": {},
   "outputs": [],
   "source": [
    "metric_vectors = tfidf_vectorizer.transform(metrics_df['metric'])"
   ]
  },
  {
   "cell_type": "code",
   "execution_count": 190,
   "metadata": {},
   "outputs": [],
   "source": [
    "# Project Manager\t10 a 20\tGrande empresa\tOil \tScrum\tGerenciamento de riscos, Métricas\tGerenciamento de riscos\tGerenciamento de riscos\tGerenciamento de riscos\tMétricas\t\tCronograma e progresso, Pessoas, Processo, Tecnologia, Cliente\n",
    "new_manager_data = {\n",
    "    'role': 'Project Manager',\n",
    "    'org_size': 'Microempresa',\n",
    "    'org_field': 'E-commerce',\n",
    "    'agile_methods': 'Scrum, Kanban',\n",
    "    'use_metrics_planning': 'Métricas',\n",
    "    'use_metrics_review': 'Métricas',\n",
    "    'use_metrics_weekly': '',\n",
    "    'use_metrics_daily': '',\n",
    "    'use_metrics_retro': 'Métricas',\n",
    "    'use_metrics_na': '',\n",
    "    'metrics_category': 'Tecnologia'\n",
    "}"
   ]
  },
  {
   "cell_type": "code",
   "execution_count": 191,
   "metadata": {},
   "outputs": [],
   "source": [
    "new_manager_text = ' '.join(new_manager_data)\n",
    "\n",
    "# Vetorizar o novo gerente usando TF-IDF\n",
    "new_manager_vector = tfidf_vectorizer.transform([new_manager_text])\n",
    "\n",
    "# Calcular a similaridade do cosseno entre o novo gerente e cada métrica\n",
    "from sklearn.metrics.pairwise import cosine_similarity\n",
    "\n",
    "# Calcular a similaridade entre o novo gerente e todas as métricas\n",
    "similarities = cosine_similarity(new_manager_vector, metric_vectors)[0]"
   ]
  },
  {
   "cell_type": "code",
   "execution_count": 193,
   "metadata": {},
   "outputs": [
    {
     "name": "stdout",
     "output_type": "stream",
     "text": [
      "Nenhuma métrica relevante encontrada para o perfil do gerente.\n"
     ]
    }
   ],
   "source": [
    "recommended_metrics_indices = similarities.argsort()[::-1]\n",
    "\n",
    "# Exibir as métricas recomendadas com a porcentagem de afinidade\n",
    "total_similarity = similarities.sum()\n",
    "\n",
    "if total_similarity == 0:\n",
    "    print(\"Nenhuma métrica relevante encontrada para o perfil do gerente.\")\n",
    "else:\n",
    "    affinity_percentage = (similarities / total_similarity) * 100\n",
    "    for idx in recommended_metrics_indices:\n",
    "        print(f\"Métrica: {metrics_df['metric'][idx]}, Afinidade: {affinity_percentage[idx]:.2f}%\")\n"
   ]
  },
  {
   "cell_type": "code",
   "execution_count": 175,
   "metadata": {},
   "outputs": [],
   "source": [
    "# Passo 4: Transformar as características dos gerentes e as métricas em TF-IDF usando o mesmo vetorizador\n",
    "X_text_tfidf = tfidf_vectorizer.transform(df[\"combined_text\"])\n",
    "metrics_tfidf = tfidf_vectorizer.transform(metrics_df[\"metric\"])"
   ]
  },
  {
   "cell_type": "markdown",
   "metadata": {},
   "source": [
    "## Treinamento"
   ]
  },
  {
   "cell_type": "code",
   "execution_count": 184,
   "metadata": {},
   "outputs": [],
   "source": [
    "#  Calcular a similaridade do cosseno entre as características dos gerentes e as métricas\n",
    "affinity_scores = cosine_similarity(X_text_tfidf, metrics_tfidf)"
   ]
  },
  {
   "cell_type": "code",
   "execution_count": 185,
   "metadata": {},
   "outputs": [],
   "source": [
    "# Criar um DataFrame para armazenar os resultados de afinidade\n",
    "affinity_df = pd.DataFrame(affinity_scores, index=df.index, columns=metrics_df['metric'])\n"
   ]
  },
  {
   "cell_type": "code",
   "execution_count": 186,
   "metadata": {},
   "outputs": [
    {
     "data": {
      "text/html": [
       "<div>\n",
       "<style scoped>\n",
       "    .dataframe tbody tr th:only-of-type {\n",
       "        vertical-align: middle;\n",
       "    }\n",
       "\n",
       "    .dataframe tbody tr th {\n",
       "        vertical-align: top;\n",
       "    }\n",
       "\n",
       "    .dataframe thead th {\n",
       "        text-align: right;\n",
       "    }\n",
       "</style>\n",
       "<table border=\"1\" class=\"dataframe\">\n",
       "  <thead>\n",
       "    <tr style=\"text-align: right;\">\n",
       "      <th>metric</th>\n",
       "      <th>Ideal team capacity</th>\n",
       "      <th>NPS</th>\n",
       "      <th>Burndown</th>\n",
       "      <th>Outstanding bugs</th>\n",
       "      <th>Throughput</th>\n",
       "      <th>Number of remaining tasks</th>\n",
       "      <th>OKR</th>\n",
       "      <th>Velocity</th>\n",
       "      <th>CAC</th>\n",
       "      <th>Roadmaps</th>\n",
       "      <th>...</th>\n",
       "      <th>CFD</th>\n",
       "      <th>Number of completed tasks</th>\n",
       "      <th>Churn</th>\n",
       "      <th>Quality rating</th>\n",
       "      <th>KPI</th>\n",
       "      <th>Team total available hours</th>\n",
       "      <th>Project avg. cost</th>\n",
       "      <th>CSAT</th>\n",
       "      <th>SLA</th>\n",
       "      <th>Dívidas técnicas</th>\n",
       "    </tr>\n",
       "  </thead>\n",
       "  <tbody>\n",
       "    <tr>\n",
       "      <th>0</th>\n",
       "      <td>0.000000</td>\n",
       "      <td>0.0</td>\n",
       "      <td>0.0</td>\n",
       "      <td>0.0</td>\n",
       "      <td>0.0</td>\n",
       "      <td>0.0</td>\n",
       "      <td>0.0</td>\n",
       "      <td>0.0</td>\n",
       "      <td>0.0</td>\n",
       "      <td>0.0</td>\n",
       "      <td>...</td>\n",
       "      <td>0.0</td>\n",
       "      <td>0.0</td>\n",
       "      <td>0.0</td>\n",
       "      <td>0.0</td>\n",
       "      <td>0.0</td>\n",
       "      <td>0.000000</td>\n",
       "      <td>0.0</td>\n",
       "      <td>0.0</td>\n",
       "      <td>0.0</td>\n",
       "      <td>0.0</td>\n",
       "    </tr>\n",
       "    <tr>\n",
       "      <th>1</th>\n",
       "      <td>0.000000</td>\n",
       "      <td>0.0</td>\n",
       "      <td>0.0</td>\n",
       "      <td>0.0</td>\n",
       "      <td>0.0</td>\n",
       "      <td>0.0</td>\n",
       "      <td>0.0</td>\n",
       "      <td>0.0</td>\n",
       "      <td>0.0</td>\n",
       "      <td>0.0</td>\n",
       "      <td>...</td>\n",
       "      <td>0.0</td>\n",
       "      <td>0.0</td>\n",
       "      <td>0.0</td>\n",
       "      <td>0.0</td>\n",
       "      <td>0.0</td>\n",
       "      <td>0.000000</td>\n",
       "      <td>0.0</td>\n",
       "      <td>0.0</td>\n",
       "      <td>0.0</td>\n",
       "      <td>0.0</td>\n",
       "    </tr>\n",
       "    <tr>\n",
       "      <th>2</th>\n",
       "      <td>0.000000</td>\n",
       "      <td>0.0</td>\n",
       "      <td>0.0</td>\n",
       "      <td>0.0</td>\n",
       "      <td>0.0</td>\n",
       "      <td>0.0</td>\n",
       "      <td>0.0</td>\n",
       "      <td>0.0</td>\n",
       "      <td>0.0</td>\n",
       "      <td>0.0</td>\n",
       "      <td>...</td>\n",
       "      <td>0.0</td>\n",
       "      <td>0.0</td>\n",
       "      <td>0.0</td>\n",
       "      <td>0.0</td>\n",
       "      <td>0.0</td>\n",
       "      <td>0.000000</td>\n",
       "      <td>0.0</td>\n",
       "      <td>0.0</td>\n",
       "      <td>0.0</td>\n",
       "      <td>0.0</td>\n",
       "    </tr>\n",
       "    <tr>\n",
       "      <th>3</th>\n",
       "      <td>0.054609</td>\n",
       "      <td>0.0</td>\n",
       "      <td>0.0</td>\n",
       "      <td>0.0</td>\n",
       "      <td>0.0</td>\n",
       "      <td>0.0</td>\n",
       "      <td>0.0</td>\n",
       "      <td>0.0</td>\n",
       "      <td>0.0</td>\n",
       "      <td>0.0</td>\n",
       "      <td>...</td>\n",
       "      <td>0.0</td>\n",
       "      <td>0.0</td>\n",
       "      <td>0.0</td>\n",
       "      <td>0.0</td>\n",
       "      <td>0.0</td>\n",
       "      <td>0.048351</td>\n",
       "      <td>0.0</td>\n",
       "      <td>0.0</td>\n",
       "      <td>0.0</td>\n",
       "      <td>0.0</td>\n",
       "    </tr>\n",
       "    <tr>\n",
       "      <th>4</th>\n",
       "      <td>0.000000</td>\n",
       "      <td>0.0</td>\n",
       "      <td>0.0</td>\n",
       "      <td>0.0</td>\n",
       "      <td>0.0</td>\n",
       "      <td>0.0</td>\n",
       "      <td>0.0</td>\n",
       "      <td>0.0</td>\n",
       "      <td>0.0</td>\n",
       "      <td>0.0</td>\n",
       "      <td>...</td>\n",
       "      <td>0.0</td>\n",
       "      <td>0.0</td>\n",
       "      <td>0.0</td>\n",
       "      <td>0.0</td>\n",
       "      <td>0.0</td>\n",
       "      <td>0.000000</td>\n",
       "      <td>0.0</td>\n",
       "      <td>0.0</td>\n",
       "      <td>0.0</td>\n",
       "      <td>0.0</td>\n",
       "    </tr>\n",
       "  </tbody>\n",
       "</table>\n",
       "<p>5 rows × 32 columns</p>\n",
       "</div>"
      ],
      "text/plain": [
       "metric  Ideal team capacity  NPS  Burndown  Outstanding bugs  Throughput  \\\n",
       "0                  0.000000  0.0       0.0               0.0         0.0   \n",
       "1                  0.000000  0.0       0.0               0.0         0.0   \n",
       "2                  0.000000  0.0       0.0               0.0         0.0   \n",
       "3                  0.054609  0.0       0.0               0.0         0.0   \n",
       "4                  0.000000  0.0       0.0               0.0         0.0   \n",
       "\n",
       "metric  Number of remaining tasks  OKR  Velocity  CAC  Roadmaps  ...  CFD  \\\n",
       "0                             0.0  0.0       0.0  0.0       0.0  ...  0.0   \n",
       "1                             0.0  0.0       0.0  0.0       0.0  ...  0.0   \n",
       "2                             0.0  0.0       0.0  0.0       0.0  ...  0.0   \n",
       "3                             0.0  0.0       0.0  0.0       0.0  ...  0.0   \n",
       "4                             0.0  0.0       0.0  0.0       0.0  ...  0.0   \n",
       "\n",
       "metric  Number of completed tasks  Churn  Quality rating  KPI  \\\n",
       "0                             0.0    0.0             0.0  0.0   \n",
       "1                             0.0    0.0             0.0  0.0   \n",
       "2                             0.0    0.0             0.0  0.0   \n",
       "3                             0.0    0.0             0.0  0.0   \n",
       "4                             0.0    0.0             0.0  0.0   \n",
       "\n",
       "metric  Team total available hours  Project avg. cost  CSAT  SLA  \\\n",
       "0                         0.000000                0.0   0.0  0.0   \n",
       "1                         0.000000                0.0   0.0  0.0   \n",
       "2                         0.000000                0.0   0.0  0.0   \n",
       "3                         0.048351                0.0   0.0  0.0   \n",
       "4                         0.000000                0.0   0.0  0.0   \n",
       "\n",
       "metric  Dívidas técnicas  \n",
       "0                    0.0  \n",
       "1                    0.0  \n",
       "2                    0.0  \n",
       "3                    0.0  \n",
       "4                    0.0  \n",
       "\n",
       "[5 rows x 32 columns]"
      ]
     },
     "execution_count": 186,
     "metadata": {},
     "output_type": "execute_result"
    }
   ],
   "source": [
    "# Passo 7: Exibir os resultados para ver a afinidade de cada gerente com cada métrica\n",
    "affinity_df.head()"
   ]
  },
  {
   "cell_type": "code",
   "execution_count": 187,
   "metadata": {},
   "outputs": [
    {
     "name": "stdout",
     "output_type": "stream",
     "text": [
      "Recomendações de métricas para o novo gerente:\n",
      "                                             0\n",
      "metric                                        \n",
      "Project avg. cost                     0.288466\n",
      "Ideal team capacity                   0.129127\n",
      "Team and individual motivational      0.129127\n",
      "Team total available hours            0.114331\n",
      "Team total effective available hours  0.097931\n",
      "NPS                                   0.000000\n",
      "Burndown                              0.000000\n",
      "Outstanding bugs                      0.000000\n",
      "CAC                                   0.000000\n",
      "Roadmaps                              0.000000\n",
      "Conversão                             0.000000\n",
      "User Story Points                     0.000000\n",
      "Throughput                            0.000000\n",
      "Number of remaining tasks             0.000000\n",
      "OKR                                   0.000000\n",
      "Velocity                              0.000000\n",
      "Test Coverage                         0.000000\n",
      "Security Test Pass Rate (security     0.000000\n",
      "Lead time                             0.000000\n",
      "Cycle time                            0.000000\n",
      "Flow efficiency                       0.000000\n",
      "Number of Active Customers            0.000000\n",
      "Technical Efficiency                  0.000000\n",
      "Valor agregado                        0.000000\n",
      "Number of completed tasks             0.000000\n",
      "CFD                                   0.000000\n",
      "Quality rating                        0.000000\n",
      "Churn                                 0.000000\n",
      "KPI                                   0.000000\n",
      "CSAT                                  0.000000\n",
      "SLA                                   0.000000\n",
      "Dívidas técnicas                      0.000000\n"
     ]
    }
   ],
   "source": [
    "# Passo 3.1: Características do novo gerente (supor que temos um novo gerente com as seguintes características)\n",
    "new_manager_data = {\n",
    "    'role': 'Project Manager',\n",
    "    'org_size': 'Medium',\n",
    "    'org_field': 'IT',\n",
    "    'agile_methods': 'Scrum',\n",
    "    'use_metrics_planning': 'Yes',\n",
    "    'use_metrics_review': 'Yes',\n",
    "    'use_metrics_weekly': 'No',\n",
    "    'use_metrics_daily': 'Yes',\n",
    "    'use_metrics_retro': 'No',\n",
    "    'use_metrics_na': 'No',\n",
    "    'metrics_category': 'Team'\n",
    "}\n",
    "\n",
    "# Passo 3.2: Combinar as características do novo gerente em uma única string\n",
    "new_manager_combined_text = ' '.join([str(val) for val in new_manager_data.values()])\n",
    "\n",
    "# Passo 3.3: Transformar as características do novo gerente em TF-IDF\n",
    "new_manager_tfidf = tfidf_vectorizer.transform([new_manager_combined_text])\n",
    "\n",
    "# Passo 3.4: Calcular a similaridade com as métricas\n",
    "new_affinity_scores = cosine_similarity(new_manager_tfidf, metrics_tfidf)\n",
    "\n",
    "# Passo 3.5: Criar um DataFrame para exibir as recomendações\n",
    "new_affinity_df = pd.DataFrame(new_affinity_scores, columns=metrics_df['metric'])\n",
    "\n",
    "# Exibir as afinidades para o novo gerente (ordenar da mais alta para a mais baixa)\n",
    "recommendations = new_affinity_df.T.sort_values(by=0, ascending=False)\n",
    "print(\"Recomendações de métricas para o novo gerente:\")\n",
    "print(recommendations)"
   ]
  }
 ],
 "metadata": {
  "kernelspec": {
   "display_name": "tcc_env",
   "language": "python",
   "name": "python3"
  },
  "language_info": {
   "codemirror_mode": {
    "name": "ipython",
    "version": 3
   },
   "file_extension": ".py",
   "mimetype": "text/x-python",
   "name": "python",
   "nbconvert_exporter": "python",
   "pygments_lexer": "ipython3",
   "version": "3.12.2"
  }
 },
 "nbformat": 4,
 "nbformat_minor": 2
}
