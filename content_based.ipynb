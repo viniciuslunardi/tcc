{
 "cells": [
  {
   "cell_type": "markdown",
   "metadata": {},
   "source": [
    "## Content Based Example"
   ]
  },
  {
   "cell_type": "code",
   "execution_count": 14,
   "metadata": {},
   "outputs": [],
   "source": [
    "import pandas as pd\n",
    "from sklearn.feature_extraction.text import TfidfVectorizer\n",
    "from sklearn.metrics.pairwise import linear_kernel"
   ]
  },
  {
   "cell_type": "markdown",
   "metadata": {},
   "source": [
    "### Setting sample data "
   ]
  },
  {
   "cell_type": "code",
   "execution_count": 15,
   "metadata": {},
   "outputs": [],
   "source": [
    "data = {\n",
    "    'title': ['The Matrix', 'Titanic', 'The Avengers', 'Shrek', 'Toy Story', 'Avatar', 'The Dark Knight'],\n",
    "    'genres': ['Action Sci-Fi', 'Romance Drama', 'Action Adventure Sci-Fi', 'Animation Comedy', 'Animation Adventure Comedy', 'Action Adventure Sci-Fi', 'Action Drama']\n",
    "}\n",
    "df = pd.DataFrame(data)\n"
   ]
  },
  {
   "cell_type": "markdown",
   "metadata": {},
   "source": [
    "### Dataset example"
   ]
  },
  {
   "cell_type": "code",
   "execution_count": 16,
   "metadata": {},
   "outputs": [
    {
     "data": {
      "text/html": [
       "<div>\n",
       "<style scoped>\n",
       "    .dataframe tbody tr th:only-of-type {\n",
       "        vertical-align: middle;\n",
       "    }\n",
       "\n",
       "    .dataframe tbody tr th {\n",
       "        vertical-align: top;\n",
       "    }\n",
       "\n",
       "    .dataframe thead th {\n",
       "        text-align: right;\n",
       "    }\n",
       "</style>\n",
       "<table border=\"1\" class=\"dataframe\">\n",
       "  <thead>\n",
       "    <tr style=\"text-align: right;\">\n",
       "      <th></th>\n",
       "      <th>title</th>\n",
       "      <th>genres</th>\n",
       "    </tr>\n",
       "  </thead>\n",
       "  <tbody>\n",
       "    <tr>\n",
       "      <th>0</th>\n",
       "      <td>The Matrix</td>\n",
       "      <td>Action Sci-Fi</td>\n",
       "    </tr>\n",
       "    <tr>\n",
       "      <th>1</th>\n",
       "      <td>Titanic</td>\n",
       "      <td>Romance Drama</td>\n",
       "    </tr>\n",
       "    <tr>\n",
       "      <th>2</th>\n",
       "      <td>The Avengers</td>\n",
       "      <td>Action Adventure Sci-Fi</td>\n",
       "    </tr>\n",
       "    <tr>\n",
       "      <th>3</th>\n",
       "      <td>Shrek</td>\n",
       "      <td>Animation Comedy</td>\n",
       "    </tr>\n",
       "    <tr>\n",
       "      <th>4</th>\n",
       "      <td>Toy Story</td>\n",
       "      <td>Animation Adventure Comedy</td>\n",
       "    </tr>\n",
       "    <tr>\n",
       "      <th>5</th>\n",
       "      <td>Avatar</td>\n",
       "      <td>Action Adventure Sci-Fi</td>\n",
       "    </tr>\n",
       "    <tr>\n",
       "      <th>6</th>\n",
       "      <td>The Dark Knight</td>\n",
       "      <td>Action Drama</td>\n",
       "    </tr>\n",
       "  </tbody>\n",
       "</table>\n",
       "</div>"
      ],
      "text/plain": [
       "             title                      genres\n",
       "0       The Matrix               Action Sci-Fi\n",
       "1          Titanic               Romance Drama\n",
       "2     The Avengers     Action Adventure Sci-Fi\n",
       "3            Shrek            Animation Comedy\n",
       "4        Toy Story  Animation Adventure Comedy\n",
       "5           Avatar     Action Adventure Sci-Fi\n",
       "6  The Dark Knight                Action Drama"
      ]
     },
     "execution_count": 16,
     "metadata": {},
     "output_type": "execute_result"
    }
   ],
   "source": [
    "df.head(n=len(df))"
   ]
  },
  {
   "cell_type": "markdown",
   "metadata": {},
   "source": [
    "### TF-IDF\n",
    "* Esta técnica é usada aqui para converter os gênereos em uma matriz numérica "
   ]
  },
  {
   "cell_type": "code",
   "execution_count": 17,
   "metadata": {},
   "outputs": [
    {
     "name": "stdout",
     "output_type": "stream",
     "text": [
      "<Compressed Sparse Row sparse matrix of dtype 'float64'\n",
      "\twith 20 stored elements and shape (7, 8)>\n",
      "  Coords\tValues\n",
      "  (0, 0)\t0.5231891078946888\n",
      "  (0, 7)\t0.6026081468833456\n",
      "  (0, 5)\t0.6026081468833456\n",
      "  (1, 6)\t0.7694487573949885\n",
      "  (1, 4)\t0.6387085483562188\n",
      "  (2, 0)\t0.44811451141971304\n",
      "  (2, 7)\t0.5161373798563944\n",
      "  (2, 5)\t0.5161373798563944\n",
      "  (2, 1)\t0.5161373798563944\n",
      "  (3, 2)\t0.7071067811865475\n",
      "  (3, 3)\t0.7071067811865475\n",
      "  (4, 1)\t0.5172690941469574\n",
      "  (4, 2)\t0.60515811332262\n",
      "  (4, 3)\t0.60515811332262\n",
      "  (5, 0)\t0.44811451141971304\n",
      "  (5, 7)\t0.5161373798563944\n",
      "  (5, 5)\t0.5161373798563944\n",
      "  (5, 1)\t0.5161373798563944\n",
      "  (6, 0)\t0.5959400344623714\n",
      "  (6, 4)\t0.803028938037097\n"
     ]
    }
   ],
   "source": [
    "tfidf = TfidfVectorizer(stop_words='english')\n",
    "\n",
    "df['genres'] = df['genres'].fillna('')\n",
    "\n",
    "tfidf_matrix = tfidf.fit_transform(df['genres'])\n",
    "\n",
    "print(tfidf_matrix)"
   ]
  },
  {
   "cell_type": "markdown",
   "metadata": {},
   "source": [
    "### Computing Cosine Similarity\n",
    "* Medir a similaridade entre dois vetores\n",
    "    *  Fórmula: a similaridade cosseno é calculada como o cosseno do ângulo entre dois vetores, variando de -1 a 1.\n",
    "    * Linear Kernel: calcula a similaridade entre todos os pares de filmes"
   ]
  },
  {
   "cell_type": "code",
   "execution_count": 18,
   "metadata": {},
   "outputs": [
    {
     "name": "stdout",
     "output_type": "stream",
     "text": [
      "(7, 7)\n"
     ]
    }
   ],
   "source": [
    "cosine_sim = linear_kernel(tfidf_matrix, tfidf_matrix)\n",
    "\n",
    "print(cosine_sim.shape)"
   ]
  },
  {
   "cell_type": "markdown",
   "metadata": {},
   "source": [
    "### Get Recommendations\n",
    "* Função para obter a recomendação de filmes semelhantes com base na similaridade dos cossenos"
   ]
  },
  {
   "cell_type": "code",
   "execution_count": 19,
   "metadata": {},
   "outputs": [],
   "source": [
    "def get_recommendations(title, cosine_sim=cosine_sim):\n",
    "    idx = df.index[df['title'] == title].tolist()[0]\n",
    "\n",
    "    # pega as pontuações de similaridade de todos os filmes \n",
    "    sim_scores = list(enumerate(cosine_sim[idx]))\n",
    "\n",
    "    # Ordenar os filmes com base nas pontuações de similaridade\n",
    "    sim_scores = sorted(sim_scores, key=lambda x: x[1], reverse=True)\n",
    "\n",
    "    sim_scores = sim_scores[1:6]\n",
    "\n",
    "    movie_indices = [i[0] for i in sim_scores]\n",
    "    similarities = [i[1] for i in sim_scores]\n",
    "\n",
    "    # Retorna os 5 filmes mais similares ordenados\n",
    "    return df['title'].iloc[movie_indices], similarities\n",
    "\n",
    "def create_recommendations_table(titles):\n",
    "    recommendations = {'Movie': [], 'Recommended Movie': [], 'Similarity': []}\n",
    "    for title in titles:\n",
    "        recommended_titles, similarities = get_recommendations(title)\n",
    "        for rec_title, sim in zip(recommended_titles, similarities):\n",
    "            recommendations['Movie'].append(title)\n",
    "            recommendations['Recommended Movie'].append(rec_title)\n",
    "            recommendations['Similarity'].append(sim)\n",
    "    return pd.DataFrame(recommendations)"
   ]
  },
  {
   "cell_type": "code",
   "execution_count": 20,
   "metadata": {},
   "outputs": [
    {
     "data": {
      "text/html": [
       "<div>\n",
       "<style scoped>\n",
       "    .dataframe tbody tr th:only-of-type {\n",
       "        vertical-align: middle;\n",
       "    }\n",
       "\n",
       "    .dataframe tbody tr th {\n",
       "        vertical-align: top;\n",
       "    }\n",
       "\n",
       "    .dataframe thead th {\n",
       "        text-align: right;\n",
       "    }\n",
       "</style>\n",
       "<table border=\"1\" class=\"dataframe\">\n",
       "  <thead>\n",
       "    <tr style=\"text-align: right;\">\n",
       "      <th></th>\n",
       "      <th>Movie</th>\n",
       "      <th>Recommended Movie</th>\n",
       "      <th>Similarity</th>\n",
       "    </tr>\n",
       "  </thead>\n",
       "  <tbody>\n",
       "    <tr>\n",
       "      <th>0</th>\n",
       "      <td>The Matrix</td>\n",
       "      <td>The Avengers</td>\n",
       "      <td>0.856506</td>\n",
       "    </tr>\n",
       "    <tr>\n",
       "      <th>1</th>\n",
       "      <td>The Matrix</td>\n",
       "      <td>Avatar</td>\n",
       "      <td>0.856506</td>\n",
       "    </tr>\n",
       "    <tr>\n",
       "      <th>2</th>\n",
       "      <td>The Matrix</td>\n",
       "      <td>The Dark Knight</td>\n",
       "      <td>0.311789</td>\n",
       "    </tr>\n",
       "    <tr>\n",
       "      <th>3</th>\n",
       "      <td>The Matrix</td>\n",
       "      <td>Titanic</td>\n",
       "      <td>0.000000</td>\n",
       "    </tr>\n",
       "    <tr>\n",
       "      <th>4</th>\n",
       "      <td>The Matrix</td>\n",
       "      <td>Shrek</td>\n",
       "      <td>0.000000</td>\n",
       "    </tr>\n",
       "    <tr>\n",
       "      <th>5</th>\n",
       "      <td>Shrek</td>\n",
       "      <td>Toy Story</td>\n",
       "      <td>0.855823</td>\n",
       "    </tr>\n",
       "    <tr>\n",
       "      <th>6</th>\n",
       "      <td>Shrek</td>\n",
       "      <td>The Matrix</td>\n",
       "      <td>0.000000</td>\n",
       "    </tr>\n",
       "    <tr>\n",
       "      <th>7</th>\n",
       "      <td>Shrek</td>\n",
       "      <td>Titanic</td>\n",
       "      <td>0.000000</td>\n",
       "    </tr>\n",
       "    <tr>\n",
       "      <th>8</th>\n",
       "      <td>Shrek</td>\n",
       "      <td>The Avengers</td>\n",
       "      <td>0.000000</td>\n",
       "    </tr>\n",
       "    <tr>\n",
       "      <th>9</th>\n",
       "      <td>Shrek</td>\n",
       "      <td>Avatar</td>\n",
       "      <td>0.000000</td>\n",
       "    </tr>\n",
       "  </tbody>\n",
       "</table>\n",
       "</div>"
      ],
      "text/plain": [
       "        Movie Recommended Movie  Similarity\n",
       "0  The Matrix      The Avengers    0.856506\n",
       "1  The Matrix            Avatar    0.856506\n",
       "2  The Matrix   The Dark Knight    0.311789\n",
       "3  The Matrix           Titanic    0.000000\n",
       "4  The Matrix             Shrek    0.000000\n",
       "5       Shrek         Toy Story    0.855823\n",
       "6       Shrek        The Matrix    0.000000\n",
       "7       Shrek           Titanic    0.000000\n",
       "8       Shrek      The Avengers    0.000000\n",
       "9       Shrek            Avatar    0.000000"
      ]
     },
     "execution_count": 20,
     "metadata": {},
     "output_type": "execute_result"
    }
   ],
   "source": [
    "titles_to_recommend = ['The Matrix', 'Shrek']\n",
    "\n",
    "# Criar o DataFrame com as recomendações\n",
    "recommendations_df = create_recommendations_table(titles_to_recommend)\n",
    "\n",
    "# Exibir o DataFrame com as recomendações\n",
    "recommendations_df\n"
   ]
  }
 ],
 "metadata": {
  "kernelspec": {
   "display_name": "ds_env",
   "language": "python",
   "name": "python3"
  },
  "language_info": {
   "codemirror_mode": {
    "name": "ipython",
    "version": 3
   },
   "file_extension": ".py",
   "mimetype": "text/x-python",
   "name": "python",
   "nbconvert_exporter": "python",
   "pygments_lexer": "ipython3",
   "version": "3.12.2"
  }
 },
 "nbformat": 4,
 "nbformat_minor": 2
}
