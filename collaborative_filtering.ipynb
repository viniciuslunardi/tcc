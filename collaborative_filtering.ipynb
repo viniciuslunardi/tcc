{
 "cells": [
  {
   "cell_type": "markdown",
   "id": "935c1cd3",
   "metadata": {},
   "source": [
    "## Collaborative Filtering Example"
   ]
  },
  {
   "cell_type": "code",
   "execution_count": 1,
   "id": "8cd167e1",
   "metadata": {},
   "outputs": [],
   "source": [
    "import pandas as pd\n",
    "import numpy as np\n",
    "from sklearn.metrics.pairwise import cosine_similarity\n",
    "from scipy.sparse import csr_matrix"
   ]
  },
  {
   "cell_type": "markdown",
   "id": "2477640b",
   "metadata": {},
   "source": [
    "### Setting sample data"
   ]
  },
  {
   "cell_type": "code",
   "execution_count": 2,
   "id": "0aa65d73",
   "metadata": {},
   "outputs": [],
   "source": [
    "data = {\n",
    "    'user_id': [1, 1, 1, 2, 2, 3, 3, 3, 3],\n",
    "    'title': ['The Matrix', 'Titanic', 'The Avengers', 'Titanic', 'Shrek', 'The Matrix', 'Shrek', 'Toy Story', 'Avatar'],\n",
    "    'rating': [5, 4, 5, 5, 3, 5, 4, 5, 4]\n",
    "}\n",
    "\n",
    "df = pd.DataFrame(data)"
   ]
  },
  {
   "cell_type": "markdown",
   "id": "b1624eb0",
   "metadata": {},
   "source": [
    "### Dataset example"
   ]
  },
  {
   "cell_type": "code",
   "execution_count": 3,
   "id": "4da61182",
   "metadata": {},
   "outputs": [
    {
     "data": {
      "text/html": [
       "<div>\n",
       "<style scoped>\n",
       "    .dataframe tbody tr th:only-of-type {\n",
       "        vertical-align: middle;\n",
       "    }\n",
       "\n",
       "    .dataframe tbody tr th {\n",
       "        vertical-align: top;\n",
       "    }\n",
       "\n",
       "    .dataframe thead th {\n",
       "        text-align: right;\n",
       "    }\n",
       "</style>\n",
       "<table border=\"1\" class=\"dataframe\">\n",
       "  <thead>\n",
       "    <tr style=\"text-align: right;\">\n",
       "      <th></th>\n",
       "      <th>user_id</th>\n",
       "      <th>title</th>\n",
       "      <th>rating</th>\n",
       "    </tr>\n",
       "  </thead>\n",
       "  <tbody>\n",
       "    <tr>\n",
       "      <th>0</th>\n",
       "      <td>1</td>\n",
       "      <td>The Matrix</td>\n",
       "      <td>5</td>\n",
       "    </tr>\n",
       "    <tr>\n",
       "      <th>1</th>\n",
       "      <td>1</td>\n",
       "      <td>Titanic</td>\n",
       "      <td>4</td>\n",
       "    </tr>\n",
       "    <tr>\n",
       "      <th>2</th>\n",
       "      <td>1</td>\n",
       "      <td>The Avengers</td>\n",
       "      <td>5</td>\n",
       "    </tr>\n",
       "    <tr>\n",
       "      <th>3</th>\n",
       "      <td>2</td>\n",
       "      <td>Titanic</td>\n",
       "      <td>5</td>\n",
       "    </tr>\n",
       "    <tr>\n",
       "      <th>4</th>\n",
       "      <td>2</td>\n",
       "      <td>Shrek</td>\n",
       "      <td>3</td>\n",
       "    </tr>\n",
       "  </tbody>\n",
       "</table>\n",
       "</div>"
      ],
      "text/plain": [
       "   user_id         title  rating\n",
       "0        1    The Matrix       5\n",
       "1        1       Titanic       4\n",
       "2        1  The Avengers       5\n",
       "3        2       Titanic       5\n",
       "4        2         Shrek       3"
      ]
     },
     "execution_count": 3,
     "metadata": {},
     "output_type": "execute_result"
    }
   ],
   "source": [
    "df.head()"
   ]
  },
  {
   "cell_type": "markdown",
   "id": "988b7b2c",
   "metadata": {},
   "source": [
    "### User-Item Interaction Matrix\n",
    "*  pivot_table: Converte o DataFrame em uma matriz onde as linhas são user_id, as colunas são title e os valores são rating"
   ]
  },
  {
   "cell_type": "code",
   "execution_count": 5,
   "id": "f0c2ffae",
   "metadata": {},
   "outputs": [
    {
     "name": "stdout",
     "output_type": "stream",
     "text": [
      "\n",
      "User-Item Interaction Matrix:\n"
     ]
    },
    {
     "data": {
      "text/html": [
       "<div>\n",
       "<style scoped>\n",
       "    .dataframe tbody tr th:only-of-type {\n",
       "        vertical-align: middle;\n",
       "    }\n",
       "\n",
       "    .dataframe tbody tr th {\n",
       "        vertical-align: top;\n",
       "    }\n",
       "\n",
       "    .dataframe thead th {\n",
       "        text-align: right;\n",
       "    }\n",
       "</style>\n",
       "<table border=\"1\" class=\"dataframe\">\n",
       "  <thead>\n",
       "    <tr style=\"text-align: right;\">\n",
       "      <th>title</th>\n",
       "      <th>Avatar</th>\n",
       "      <th>Shrek</th>\n",
       "      <th>The Avengers</th>\n",
       "      <th>The Matrix</th>\n",
       "      <th>Titanic</th>\n",
       "      <th>Toy Story</th>\n",
       "    </tr>\n",
       "    <tr>\n",
       "      <th>user_id</th>\n",
       "      <th></th>\n",
       "      <th></th>\n",
       "      <th></th>\n",
       "      <th></th>\n",
       "      <th></th>\n",
       "      <th></th>\n",
       "    </tr>\n",
       "  </thead>\n",
       "  <tbody>\n",
       "    <tr>\n",
       "      <th>1</th>\n",
       "      <td>0.0</td>\n",
       "      <td>0.0</td>\n",
       "      <td>5.0</td>\n",
       "      <td>5.0</td>\n",
       "      <td>4.0</td>\n",
       "      <td>0.0</td>\n",
       "    </tr>\n",
       "    <tr>\n",
       "      <th>2</th>\n",
       "      <td>0.0</td>\n",
       "      <td>3.0</td>\n",
       "      <td>0.0</td>\n",
       "      <td>0.0</td>\n",
       "      <td>5.0</td>\n",
       "      <td>0.0</td>\n",
       "    </tr>\n",
       "    <tr>\n",
       "      <th>3</th>\n",
       "      <td>4.0</td>\n",
       "      <td>4.0</td>\n",
       "      <td>0.0</td>\n",
       "      <td>5.0</td>\n",
       "      <td>0.0</td>\n",
       "      <td>5.0</td>\n",
       "    </tr>\n",
       "  </tbody>\n",
       "</table>\n",
       "</div>"
      ],
      "text/plain": [
       "title    Avatar  Shrek  The Avengers  The Matrix  Titanic  Toy Story\n",
       "user_id                                                             \n",
       "1           0.0    0.0           5.0         5.0      4.0        0.0\n",
       "2           0.0    3.0           0.0         0.0      5.0        0.0\n",
       "3           4.0    4.0           0.0         5.0      0.0        5.0"
      ]
     },
     "execution_count": 5,
     "metadata": {},
     "output_type": "execute_result"
    }
   ],
   "source": [
    "user_item_matrix = df.pivot_table(index='user_id', columns='title', values='rating').fillna(0)\n",
    "\n",
    "print(\"\\nUser-Item Interaction Matrix:\")\n",
    "user_item_matrix"
   ]
  },
  {
   "cell_type": "markdown",
   "id": "7af3691f",
   "metadata": {},
   "source": [
    "### Computing cosene similatiry\n",
    "* Calcula a similaridade coseno entre todos os pares de usuários"
   ]
  },
  {
   "cell_type": "code",
   "execution_count": 6,
   "id": "b4a6c79e",
   "metadata": {},
   "outputs": [
    {
     "name": "stdout",
     "output_type": "stream",
     "text": [
      "\n",
      "User Similarity Matrix:\n"
     ]
    },
    {
     "data": {
      "text/plain": [
       "array([[1.        , 0.42220033, 0.33982953],\n",
       "       [0.42220033, 1.        , 0.22726621],\n",
       "       [0.33982953, 0.22726621, 1.        ]])"
      ]
     },
     "execution_count": 6,
     "metadata": {},
     "output_type": "execute_result"
    }
   ],
   "source": [
    "user_item_sparse_matrix = csr_matrix(user_item_matrix.values)\n",
    "\n",
    "# Computar a matriz de similaridade coseno\n",
    "user_similarity = cosine_similarity(user_item_sparse_matrix)\n",
    "\n",
    "print(\"\\nUser Similarity Matrix:\")\n",
    "user_similarity"
   ]
  },
  {
   "cell_type": "markdown",
   "id": "c02a432d",
   "metadata": {},
   "source": [
    "### Get Recommendations"
   ]
  },
  {
   "cell_type": "code",
   "execution_count": 7,
   "id": "fad1b42c",
   "metadata": {},
   "outputs": [],
   "source": [
    "def get_collaborative_recommendations(user_id, user_item_matrix, user_similarity):\n",
    "    user_idx = user_id - 1  # Índice do usuário\n",
    "    \n",
    "    # pontuações de similaridade para o usuário\n",
    "    sim_scores = user_similarity[user_idx]\n",
    "    \n",
    "    # avaliações do usuário\n",
    "    user_ratings = user_item_matrix.iloc[user_idx]\n",
    "    \n",
    "    weighted_ratings = pd.DataFrame(index=user_item_matrix.columns, columns=['rating'])\n",
    "    weighted_ratings['rating'] = 0\n",
    "    \n",
    "    # Computar a soma ponderada das avaliações\n",
    "    for i in range(len(sim_scores)):\n",
    "        if i != user_idx:\n",
    "            weighted_ratings['rating'] += sim_scores[i] * user_item_matrix.iloc[i]\n",
    "    \n",
    "    # Normalizar as avaliações ponderadas pela soma das similaridades\n",
    "    weighted_ratings['rating'] /= sum(sim_scores) - 1\n",
    "    \n",
    "    # Remover filmes que o usuário já avaliou\n",
    "    recommendations = weighted_ratings[~user_ratings.astype(bool)]\n",
    "    \n",
    "    # Ordenar as recomendações por avaliação\n",
    "    recommendations = recommendations.sort_values(by='rating', ascending=False)\n",
    "    \n",
    "    # Retornar as 5 principais recomendações\n",
    "    return recommendations.head(5)\n"
   ]
  },
  {
   "cell_type": "code",
   "execution_count": 8,
   "id": "7dc9dbcc",
   "metadata": {},
   "outputs": [
    {
     "name": "stdout",
     "output_type": "stream",
     "text": [
      "\n",
      "Recomendações para o Usuário 1:\n",
      "             rating\n",
      "title              \n",
      "Shrek      3.445953\n",
      "Toy Story  2.229765\n",
      "Avatar     1.783812\n",
      "\n",
      "Recomendações para o Usuário 2:\n",
      "                rating\n",
      "title                 \n",
      "The Matrix    5.000000\n",
      "The Avengers  3.250362\n",
      "Toy Story     1.749638\n",
      "Avatar        1.399710\n",
      "\n",
      "Recomendações para o Usuário 3:\n",
      "                rating\n",
      "title                 \n",
      "Titanic       4.400755\n",
      "The Avengers  2.996227\n"
     ]
    }
   ],
   "source": [
    "# Exemplo: Obter recomendações para o usuário 1\n",
    "print(\"\\nRecomendações para o Usuário 1:\")\n",
    "print(get_collaborative_recommendations(1, user_item_matrix, user_similarity))\n",
    "\n",
    "# Exemplo: Obter recomendações para o usuário 2\n",
    "print(\"\\nRecomendações para o Usuário 2:\")\n",
    "print(get_collaborative_recommendations(2, user_item_matrix, user_similarity))\n",
    "\n",
    "# Exemplo: Obter recomendações para o usuário 3\n",
    "print(\"\\nRecomendações para o Usuário 3:\")\n",
    "print(get_collaborative_recommendations(3, user_item_matrix, user_similarity))\n"
   ]
  }
 ],
 "metadata": {
  "kernelspec": {
   "display_name": "Python 3 (ipykernel)",
   "language": "python",
   "name": "python3"
  },
  "language_info": {
   "codemirror_mode": {
    "name": "ipython",
    "version": 3
   },
   "file_extension": ".py",
   "mimetype": "text/x-python",
   "name": "python",
   "nbconvert_exporter": "python",
   "pygments_lexer": "ipython3",
   "version": "3.12.2"
  }
 },
 "nbformat": 4,
 "nbformat_minor": 5
}
