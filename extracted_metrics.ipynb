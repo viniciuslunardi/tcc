{
 "cells": [
  {
   "cell_type": "code",
   "execution_count": 1,
   "metadata": {},
   "outputs": [],
   "source": [
    "import pandas as pd"
   ]
  },
  {
   "cell_type": "code",
   "execution_count": 2,
   "metadata": {},
   "outputs": [
    {
     "data": {
      "text/html": [
       "<div>\n",
       "<style scoped>\n",
       "    .dataframe tbody tr th:only-of-type {\n",
       "        vertical-align: middle;\n",
       "    }\n",
       "\n",
       "    .dataframe tbody tr th {\n",
       "        vertical-align: top;\n",
       "    }\n",
       "\n",
       "    .dataframe thead th {\n",
       "        text-align: right;\n",
       "    }\n",
       "</style>\n",
       "<table border=\"1\" class=\"dataframe\">\n",
       "  <thead>\n",
       "    <tr style=\"text-align: right;\">\n",
       "      <th></th>\n",
       "      <th>Metric #</th>\n",
       "      <th>Metric Name</th>\n",
       "      <th>Source (primary study #)</th>\n",
       "      <th>Name of metric by primary study</th>\n",
       "      <th>Metric Description</th>\n",
       "      <th>Common Issue Area (PSM Classification)</th>\n",
       "    </tr>\n",
       "  </thead>\n",
       "  <tbody>\n",
       "    <tr>\n",
       "      <th>0</th>\n",
       "      <td>1</td>\n",
       "      <td>Individual effectiveness</td>\n",
       "      <td>S12</td>\n",
       "      <td>Individual effectiveness</td>\n",
       "      <td>n/i</td>\n",
       "      <td>Resources and Cost</td>\n",
       "    </tr>\n",
       "    <tr>\n",
       "      <th>1</th>\n",
       "      <td>1</td>\n",
       "      <td>NaN</td>\n",
       "      <td>S13</td>\n",
       "      <td>Individual performance</td>\n",
       "      <td>Individual performance: contribution to value\\...</td>\n",
       "      <td>Resources and Cost</td>\n",
       "    </tr>\n",
       "    <tr>\n",
       "      <th>2</th>\n",
       "      <td>2</td>\n",
       "      <td>Weekly working hours of individual</td>\n",
       "      <td>S12</td>\n",
       "      <td>Weekly working hours of individual</td>\n",
       "      <td>n/i</td>\n",
       "      <td>Resources and Cost</td>\n",
       "    </tr>\n",
       "    <tr>\n",
       "      <th>3</th>\n",
       "      <td>3</td>\n",
       "      <td>Individual effective available hours</td>\n",
       "      <td>S12</td>\n",
       "      <td>Individual effective available hours</td>\n",
       "      <td>n/i</td>\n",
       "      <td>Resources and Cost</td>\n",
       "    </tr>\n",
       "    <tr>\n",
       "      <th>4</th>\n",
       "      <td>4</td>\n",
       "      <td>Individual Contribution</td>\n",
       "      <td>S11</td>\n",
       "      <td>Contribution</td>\n",
       "      <td>Measures the direct participation and quality ...</td>\n",
       "      <td>Resources and Cost</td>\n",
       "    </tr>\n",
       "  </tbody>\n",
       "</table>\n",
       "</div>"
      ],
      "text/plain": [
       "  Metric #                           Metric Name Source (primary study #)  \\\n",
       "0        1              Individual effectiveness                      S12   \n",
       "1        1                                   NaN                      S13   \n",
       "2        2    Weekly working hours of individual                      S12   \n",
       "3        3  Individual effective available hours                      S12   \n",
       "4        4               Individual Contribution                      S11   \n",
       "\n",
       "        Name of metric by primary study  \\\n",
       "0              Individual effectiveness   \n",
       "1                Individual performance   \n",
       "2    Weekly working hours of individual   \n",
       "3  Individual effective available hours   \n",
       "4                          Contribution   \n",
       "\n",
       "                                  Metric Description  \\\n",
       "0                                                n/i   \n",
       "1  Individual performance: contribution to value\\...   \n",
       "2                                                n/i   \n",
       "3                                                n/i   \n",
       "4  Measures the direct participation and quality ...   \n",
       "\n",
       "  Common Issue Area (PSM Classification)  \n",
       "0                     Resources and Cost  \n",
       "1                     Resources and Cost  \n",
       "2                     Resources and Cost  \n",
       "3                     Resources and Cost  \n",
       "4                     Resources and Cost  "
      ]
     },
     "execution_count": 2,
     "metadata": {},
     "output_type": "execute_result"
    }
   ],
   "source": [
    "df = pd.read_excel('extracted_metrics.xlsx', sheet_name='Extracted metrics')\n",
    "df.head()"
   ]
  }
 ],
 "metadata": {
  "kernelspec": {
   "display_name": "ds_env",
   "language": "python",
   "name": "python3"
  },
  "language_info": {
   "codemirror_mode": {
    "name": "ipython",
    "version": 3
   },
   "file_extension": ".py",
   "mimetype": "text/x-python",
   "name": "python",
   "nbconvert_exporter": "python",
   "pygments_lexer": "ipython3",
   "version": "3.12.2"
  }
 },
 "nbformat": 4,
 "nbformat_minor": 2
}
