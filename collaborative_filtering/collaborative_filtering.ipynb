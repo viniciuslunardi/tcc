{
 "cells": [
  {
   "cell_type": "code",
   "execution_count": 102,
   "metadata": {},
   "outputs": [
    {
     "name": "stdout",
     "output_type": "stream",
     "text": [
      "Modelo salvo em: collaborative_filtering_model.joblib\n"
     ]
    },
    {
     "name": "stderr",
     "output_type": "stream",
     "text": [
      "/var/folders/5j/0g6pzkwj7_g1p9xwqx5jfgq80000gn/T/ipykernel_3758/4113872536.py:29: FutureWarning: Downcasting behavior in `replace` is deprecated and will be removed in a future version. To retain the old behavior, explicitly call `result.infer_objects(copy=False)`. To opt-in to the future behavior, set `pd.set_option('future.no_silent_downcasting', True)`\n",
      "  df[features] = df[features].replace({'Sim': 1, 'Não': 0})\n"
     ]
    }
   ],
   "source": [
    "import pandas as pd\n",
    "from sklearn.feature_extraction.text import TfidfVectorizer\n",
    "from sklearn.metrics.pairwise import cosine_similarity\n",
    "from sklearn.preprocessing import MinMaxScaler\n",
    "import numpy as np\n",
    "import joblib\n",
    "\n",
    "# Carregar o dataset\n",
    "df = pd.read_excel('ready_for_filtering.xlsx')\n",
    "\n",
    "# Lista de possíveis valores para agile_methods e metrics_category\n",
    "agile_methods_list = ['Scrum', 'Kanban', 'ScrumBan', 'XP', 'Safe', 'Lean'] \n",
    "metrics_category_list = ['Cronograma e progresso', 'Produto', 'Processo', 'Tecnologia', 'Pessoas', 'Cliente']\n",
    "\n",
    "# Nova lista de features com colunas expandidas\n",
    "new_agile_columns = [f'agile_methods_{method.lower()}' for method in agile_methods_list]\n",
    "new_metrics_columns = [f'metrics_category_{category.lower().replace(\" \", \"_\")}' for category in metrics_category_list]\n",
    "\n",
    "# Atualizar a lista de features\n",
    "features = ['role', 'years_exp', 'org_size', \n",
    "            'use_metrics_planning', 'use_metrics_review', \n",
    "            'use_metrics_weekly', 'use_metrics_daily', \n",
    "            'use_metrics_retro'] + new_agile_columns + new_metrics_columns\n",
    "\n",
    "# Preencher valores nulos com string vazia\n",
    "df[features] = df[features].fillna('')\n",
    "\n",
    "# Converter as colunas binárias \"Sim\"/\"Não\" para 1/0\n",
    "df[features] = df[features].replace({'Sim': 1, 'Não': 0})\n",
    "\n",
    "# Definir pesos ajustados para amplificar o impacto das colunas binárias e importantes\n",
    "feature_weights = {\n",
    "    'role': 4.5,  # Peso menor para 'role'\n",
    "    'years_exp': 2.5,\n",
    "    'org_size': 1.5,\n",
    "    'use_metrics_planning': 6.5,  # Amplificação do peso para estas colunas\n",
    "    'use_metrics_review': 6.5,\n",
    "    'use_metrics_weekly': 6.5,\n",
    "    'use_metrics_daily': 6.5,\n",
    "    'use_metrics_retro': 6.5,\n",
    "    'agile_methods_scrum': 7.0,  # Peso ainda maior para métodos ágeis\n",
    "    'agile_methods_kanban': 7.0,\n",
    "    'agile_methods_scrumban': 7.0,\n",
    "    'agile_methods_lean': 7.0,\n",
    "    'agile_methods_xp': 7.0,\n",
    "    'agile_methods_safe': 7.0,\n",
    "    'metrics_category_cronograma_e_progresso': 3.5,  # Amplificação do peso para categorias de métricas\n",
    "    'metrics_category_produto': 3.5,\n",
    "    'metrics_category_processo': 3.5,\n",
    "    'metrics_category_tecnologia': 3.5,\n",
    "    'metrics_category_pessoas': 3.5,\n",
    "    'metrics_category_cliente': 3.5\n",
    "}\n",
    "\n",
    "# Gerar vetores TF-IDF apenas para as colunas não binárias (texto)\n",
    "tfidf_vectorizers = {}\n",
    "tfidf_matrices = {}\n",
    "for feature in features:\n",
    "    if df[feature].dtype == 'object':  # Aplicar TF-IDF apenas em colunas de texto\n",
    "        tfidf_vectorizer = TfidfVectorizer()\n",
    "        tfidf_matrices[feature] = tfidf_vectorizer.fit_transform(df[feature])\n",
    "        tfidf_vectorizers[feature] = tfidf_vectorizer  # Salvar o vectorizer usado\n",
    "    else:\n",
    "        # Para colunas binárias, convertemos diretamente em matriz numérica\n",
    "        tfidf_matrices[feature] = df[[feature]].values\n",
    "\n",
    "\n",
    "model_path = 'collaborative_filtering_model.joblib'\n",
    "\n",
    "# Criar um dicionário com todos os elementos necessários para o modelo\n",
    "model_data = {\n",
    "    'tfidf_matrices': tfidf_matrices,  # Inclui as matrizes TF-IDF\n",
    "    'feature_weights': feature_weights,\n",
    "    'df': df,\n",
    "    'features': features,\n",
    "    'tfidf_vectorizers': tfidf_vectorizers  # Inclui os vectorizers\n",
    "}\n",
    "\n",
    "# Salvar o dicionário com os dados do modelo usando joblib\n",
    "joblib.dump(model_data, model_path)\n",
    "\n",
    "print(f\"Modelo salvo em: {model_path}\")"
   ]
  }
 ],
 "metadata": {
  "kernelspec": {
   "display_name": "tcc_env",
   "language": "python",
   "name": "python3"
  },
  "language_info": {
   "codemirror_mode": {
    "name": "ipython",
    "version": 3
   },
   "file_extension": ".py",
   "mimetype": "text/x-python",
   "name": "python",
   "nbconvert_exporter": "python",
   "pygments_lexer": "ipython3",
   "version": "3.12.2"
  }
 },
 "nbformat": 4,
 "nbformat_minor": 2
}
