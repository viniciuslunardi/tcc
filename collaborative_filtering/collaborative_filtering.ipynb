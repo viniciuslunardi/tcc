{
 "cells": [
  {
   "cell_type": "code",
   "execution_count": 9,
   "metadata": {},
   "outputs": [],
   "source": [
    "import pandas as pd"
   ]
  },
  {
   "cell_type": "code",
   "execution_count": 10,
   "metadata": {},
   "outputs": [
    {
     "data": {
      "text/html": [
       "<div>\n",
       "<style scoped>\n",
       "    .dataframe tbody tr th:only-of-type {\n",
       "        vertical-align: middle;\n",
       "    }\n",
       "\n",
       "    .dataframe tbody tr th {\n",
       "        vertical-align: top;\n",
       "    }\n",
       "\n",
       "    .dataframe thead th {\n",
       "        text-align: right;\n",
       "    }\n",
       "</style>\n",
       "<table border=\"1\" class=\"dataframe\">\n",
       "  <thead>\n",
       "    <tr style=\"text-align: right;\">\n",
       "      <th></th>\n",
       "      <th>Carimbo de data/hora</th>\n",
       "      <th>id_integer</th>\n",
       "      <th>role</th>\n",
       "      <th>years_exp</th>\n",
       "      <th>org_size</th>\n",
       "      <th>agile_methods</th>\n",
       "      <th>use_metrics_planning</th>\n",
       "      <th>use_metrics_review</th>\n",
       "      <th>use_metrics_weekly</th>\n",
       "      <th>use_metrics_daily</th>\n",
       "      <th>use_metrics_retro</th>\n",
       "      <th>metrics_category</th>\n",
       "      <th>sanitized_metrics</th>\n",
       "      <th>combined</th>\n",
       "    </tr>\n",
       "  </thead>\n",
       "  <tbody>\n",
       "    <tr>\n",
       "      <th>0</th>\n",
       "      <td>17:34:49</td>\n",
       "      <td>1</td>\n",
       "      <td>Product manager</td>\n",
       "      <td>0 a 5</td>\n",
       "      <td>Microempresa</td>\n",
       "      <td>Scrum, Kanban</td>\n",
       "      <td>Sim</td>\n",
       "      <td>Não</td>\n",
       "      <td>Sim</td>\n",
       "      <td>Não</td>\n",
       "      <td>Não</td>\n",
       "      <td>Cronograma e progresso, Produto, Tecnologia, C...</td>\n",
       "      <td>Ideal team capacity</td>\n",
       "      <td>productmanager0a5microempresascrum,kanbansimnã...</td>\n",
       "    </tr>\n",
       "    <tr>\n",
       "      <th>1</th>\n",
       "      <td>17:57:23</td>\n",
       "      <td>2</td>\n",
       "      <td>Desenvolvedor(a)</td>\n",
       "      <td>0 a 5</td>\n",
       "      <td>Microempresa</td>\n",
       "      <td>Scrum, Kanban</td>\n",
       "      <td>Sim</td>\n",
       "      <td>Sim</td>\n",
       "      <td>Não</td>\n",
       "      <td>Não</td>\n",
       "      <td>Não</td>\n",
       "      <td>Cronograma e progresso, Produto, Cliente</td>\n",
       "      <td>NPS</td>\n",
       "      <td>desenvolvedor(a)0a5microempresascrum,kanbansim...</td>\n",
       "    </tr>\n",
       "    <tr>\n",
       "      <th>2</th>\n",
       "      <td>17:57:23</td>\n",
       "      <td>2</td>\n",
       "      <td>Desenvolvedor(a)</td>\n",
       "      <td>0 a 5</td>\n",
       "      <td>Microempresa</td>\n",
       "      <td>Scrum, Kanban</td>\n",
       "      <td>Sim</td>\n",
       "      <td>Sim</td>\n",
       "      <td>Não</td>\n",
       "      <td>Não</td>\n",
       "      <td>Não</td>\n",
       "      <td>Cronograma e progresso, Produto, Cliente</td>\n",
       "      <td>Burndown</td>\n",
       "      <td>desenvolvedor(a)0a5microempresascrum,kanbansim...</td>\n",
       "    </tr>\n",
       "    <tr>\n",
       "      <th>3</th>\n",
       "      <td>17:57:23</td>\n",
       "      <td>2</td>\n",
       "      <td>Desenvolvedor(a)</td>\n",
       "      <td>0 a 5</td>\n",
       "      <td>Microempresa</td>\n",
       "      <td>Scrum, Kanban</td>\n",
       "      <td>Sim</td>\n",
       "      <td>Sim</td>\n",
       "      <td>Não</td>\n",
       "      <td>Não</td>\n",
       "      <td>Não</td>\n",
       "      <td>Cronograma e progresso, Produto, Cliente</td>\n",
       "      <td>Outstanding bugs</td>\n",
       "      <td>desenvolvedor(a)0a5microempresascrum,kanbansim...</td>\n",
       "    </tr>\n",
       "    <tr>\n",
       "      <th>4</th>\n",
       "      <td>17:57:23</td>\n",
       "      <td>2</td>\n",
       "      <td>Desenvolvedor(a)</td>\n",
       "      <td>0 a 5</td>\n",
       "      <td>Microempresa</td>\n",
       "      <td>Scrum, Kanban</td>\n",
       "      <td>Sim</td>\n",
       "      <td>Sim</td>\n",
       "      <td>Não</td>\n",
       "      <td>Não</td>\n",
       "      <td>Não</td>\n",
       "      <td>Cronograma e progresso, Produto, Cliente</td>\n",
       "      <td>Throughput</td>\n",
       "      <td>desenvolvedor(a)0a5microempresascrum,kanbansim...</td>\n",
       "    </tr>\n",
       "  </tbody>\n",
       "</table>\n",
       "</div>"
      ],
      "text/plain": [
       "  Carimbo de data/hora  id_integer              role years_exp      org_size  \\\n",
       "0             17:34:49           1   Product manager     0 a 5  Microempresa   \n",
       "1             17:57:23           2  Desenvolvedor(a)     0 a 5  Microempresa   \n",
       "2             17:57:23           2  Desenvolvedor(a)     0 a 5  Microempresa   \n",
       "3             17:57:23           2  Desenvolvedor(a)     0 a 5  Microempresa   \n",
       "4             17:57:23           2  Desenvolvedor(a)     0 a 5  Microempresa   \n",
       "\n",
       "   agile_methods use_metrics_planning use_metrics_review use_metrics_weekly  \\\n",
       "0  Scrum, Kanban                  Sim                Não                Sim   \n",
       "1  Scrum, Kanban                  Sim                Sim                Não   \n",
       "2  Scrum, Kanban                  Sim                Sim                Não   \n",
       "3  Scrum, Kanban                  Sim                Sim                Não   \n",
       "4  Scrum, Kanban                  Sim                Sim                Não   \n",
       "\n",
       "  use_metrics_daily use_metrics_retro  \\\n",
       "0               Não               Não   \n",
       "1               Não               Não   \n",
       "2               Não               Não   \n",
       "3               Não               Não   \n",
       "4               Não               Não   \n",
       "\n",
       "                                    metrics_category    sanitized_metrics  \\\n",
       "0  Cronograma e progresso, Produto, Tecnologia, C...  Ideal team capacity   \n",
       "1           Cronograma e progresso, Produto, Cliente                  NPS   \n",
       "2           Cronograma e progresso, Produto, Cliente             Burndown   \n",
       "3           Cronograma e progresso, Produto, Cliente     Outstanding bugs   \n",
       "4           Cronograma e progresso, Produto, Cliente           Throughput   \n",
       "\n",
       "                                            combined  \n",
       "0  productmanager0a5microempresascrum,kanbansimnã...  \n",
       "1  desenvolvedor(a)0a5microempresascrum,kanbansim...  \n",
       "2  desenvolvedor(a)0a5microempresascrum,kanbansim...  \n",
       "3  desenvolvedor(a)0a5microempresascrum,kanbansim...  \n",
       "4  desenvolvedor(a)0a5microempresascrum,kanbansim...  "
      ]
     },
     "execution_count": 10,
     "metadata": {},
     "output_type": "execute_result"
    }
   ],
   "source": [
    "df = pd.read_excel('ready_for_filtering.xlsx')\n",
    "df.head()"
   ]
  },
  {
   "cell_type": "code",
   "execution_count": 13,
   "metadata": {},
   "outputs": [],
   "source": [
    "df['sanitized_metrics'] = df['sanitized_metrics'].fillna('')\n"
   ]
  },
  {
   "cell_type": "code",
   "execution_count": 14,
   "metadata": {},
   "outputs": [],
   "source": [
    "from sklearn.feature_extraction.text import TfidfVectorizer\n"
   ]
  },
  {
   "cell_type": "code",
   "execution_count": 15,
   "metadata": {},
   "outputs": [],
   "source": [
    "vectorizer = TfidfVectorizer()\n",
    "X = vectorizer.fit_transform(df['sanitized_metrics'])"
   ]
  },
  {
   "cell_type": "code",
   "execution_count": 16,
   "metadata": {},
   "outputs": [
    {
     "name": "stdout",
     "output_type": "stream",
     "text": [
      "['active' 'agregado' 'and' 'available' 'avg' 'bugs' 'burndown' 'cac'\n",
      " 'capacity' 'cfd']\n"
     ]
    }
   ],
   "source": [
    "# Verificar as primeiras features extraídas\n",
    "print(vectorizer.get_feature_names_out()[:10])"
   ]
  },
  {
   "cell_type": "code",
   "execution_count": 17,
   "metadata": {},
   "outputs": [],
   "source": [
    "from sklearn.cluster import KMeans\n"
   ]
  },
  {
   "cell_type": "code",
   "execution_count": 18,
   "metadata": {},
   "outputs": [],
   "source": [
    "# Definir o número de clusters (n_clusters pode ser ajustado conforme o seu dataset)\n",
    "n_clusters = 5\n",
    "kmeans = KMeans(n_clusters=n_clusters, random_state=42)\n",
    "df['cluster'] = kmeans.fit_predict(X)"
   ]
  },
  {
   "cell_type": "code",
   "execution_count": 19,
   "metadata": {},
   "outputs": [
    {
     "data": {
      "text/html": [
       "<div>\n",
       "<style scoped>\n",
       "    .dataframe tbody tr th:only-of-type {\n",
       "        vertical-align: middle;\n",
       "    }\n",
       "\n",
       "    .dataframe tbody tr th {\n",
       "        vertical-align: top;\n",
       "    }\n",
       "\n",
       "    .dataframe thead th {\n",
       "        text-align: right;\n",
       "    }\n",
       "</style>\n",
       "<table border=\"1\" class=\"dataframe\">\n",
       "  <thead>\n",
       "    <tr style=\"text-align: right;\">\n",
       "      <th></th>\n",
       "      <th>sanitized_metrics</th>\n",
       "      <th>cluster</th>\n",
       "    </tr>\n",
       "  </thead>\n",
       "  <tbody>\n",
       "    <tr>\n",
       "      <th>0</th>\n",
       "      <td>Ideal team capacity</td>\n",
       "      <td>1</td>\n",
       "    </tr>\n",
       "    <tr>\n",
       "      <th>1</th>\n",
       "      <td>NPS</td>\n",
       "      <td>1</td>\n",
       "    </tr>\n",
       "    <tr>\n",
       "      <th>2</th>\n",
       "      <td>Burndown</td>\n",
       "      <td>4</td>\n",
       "    </tr>\n",
       "    <tr>\n",
       "      <th>3</th>\n",
       "      <td>Outstanding bugs</td>\n",
       "      <td>1</td>\n",
       "    </tr>\n",
       "    <tr>\n",
       "      <th>4</th>\n",
       "      <td>Throughput</td>\n",
       "      <td>1</td>\n",
       "    </tr>\n",
       "  </tbody>\n",
       "</table>\n",
       "</div>"
      ],
      "text/plain": [
       "     sanitized_metrics  cluster\n",
       "0  Ideal team capacity        1\n",
       "1                  NPS        1\n",
       "2             Burndown        4\n",
       "3     Outstanding bugs        1\n",
       "4           Throughput        1"
      ]
     },
     "execution_count": 19,
     "metadata": {},
     "output_type": "execute_result"
    }
   ],
   "source": [
    "df[['sanitized_metrics', 'cluster']].head()"
   ]
  },
  {
   "cell_type": "code",
   "execution_count": 20,
   "metadata": {},
   "outputs": [
    {
     "data": {
      "text/plain": [
       "0      Ideal team capacity\n",
       "526    Ideal team capacity\n",
       "491    Ideal team capacity\n",
       "499    Ideal team capacity\n",
       "380    Ideal team capacity\n",
       "Name: sanitized_metrics, dtype: object"
      ]
     },
     "execution_count": 20,
     "metadata": {},
     "output_type": "execute_result"
    }
   ],
   "source": [
    "from sklearn.metrics.pairwise import cosine_similarity\n",
    "import numpy as np\n",
    "\n",
    "# Similaridade de cosseno entre todas as métricas\n",
    "cosine_sim = cosine_similarity(X, X)\n",
    "\n",
    "# Função para recomendar métricas\n",
    "def recommend_metrics(index, sim_matrix, df, top_n=5):\n",
    "    # Obter as métricas mais similares\n",
    "    similar_indices = np.argsort(-sim_matrix[index])[:top_n]\n",
    "    \n",
    "    # Retornar as métricas recomendadas\n",
    "    return df.iloc[similar_indices]['sanitized_metrics']\n",
    "\n",
    "# Exemplo de recomendação para um gerente de projeto\n",
    "recommendations = recommend_metrics(0, cosine_sim, df)\n",
    "recommendations"
   ]
  },
  {
   "cell_type": "code",
   "execution_count": 23,
   "metadata": {},
   "outputs": [],
   "source": [
    "# Concatenar outras features\n",
    "X_additional = pd.get_dummies(df[['role', 'years_exp', 'org_size']], drop_first=True)\n",
    "X_combined = pd.concat([pd.DataFrame(X.toarray()), X_additional.reset_index(drop=True)], axis=1)\n",
    "\n",
    "X_combined.columns = X_combined.columns.astype(str)\n",
    "\n",
    "# Aplicar o clustering novamente com as novas features\n",
    "df['cluster'] = kmeans.fit_predict(X_combined)\n"
   ]
  }
 ],
 "metadata": {
  "kernelspec": {
   "display_name": "tcc_env",
   "language": "python",
   "name": "python3"
  },
  "language_info": {
   "codemirror_mode": {
    "name": "ipython",
    "version": 3
   },
   "file_extension": ".py",
   "mimetype": "text/x-python",
   "name": "python",
   "nbconvert_exporter": "python",
   "pygments_lexer": "ipython3",
   "version": "3.12.2"
  }
 },
 "nbformat": 4,
 "nbformat_minor": 2
}
