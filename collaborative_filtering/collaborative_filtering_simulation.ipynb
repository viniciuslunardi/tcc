{
 "cells": [
  {
   "cell_type": "code",
   "execution_count": 20,
   "metadata": {},
   "outputs": [
    {
     "name": "stdout",
     "output_type": "stream",
     "text": [
      "\n",
      "Perfis mais semelhantes ao novo usuário:\n",
      "Perfil 556: Similaridade = 100.00% - Métrica recomendada: Lead time\n",
      "Perfil 557: Similaridade = 100.00% - Métrica recomendada: Team and individual motivational\n",
      "Perfil 558: Similaridade = 100.00% - Métrica recomendada: NPS\n",
      "Perfil 559: Similaridade = 100.00% - Métrica recomendada: Burndown\n",
      "Perfil 560: Similaridade = 100.00% - Métrica recomendada: Velocity\n",
      "\n",
      "Métricas recomendadas para o usuário (productowner6a9grandeempresascrumsimsimnãonãosimcronogramaeprogressoprodutocliente): ['Lead time', 'Team and individual motivational', 'NPS', 'Burndown', 'Velocity']\n",
      "\n",
      "Perfis mais semelhantes ao novo usuário:\n",
      "Perfil 575: Similaridade = 100.00% - Métrica recomendada: OKR\n",
      "Perfil 441: Similaridade = 55.52% - Métrica recomendada: Velocity\n",
      "Perfil 442: Similaridade = 55.52% - Métrica recomendada: CAC\n",
      "Perfil 118: Similaridade = 41.35% - Métrica recomendada: Cycle time\n",
      "Perfil 119: Similaridade = 41.35% - Métrica recomendada: Velocity\n",
      "\n",
      "Métricas recomendadas para o usuário (teamleadermaisde20grandeempresascrumscrumbankanbansimsimnãonãosimprodutoprocesso): ['OKR', 'Velocity', 'CAC', 'Cycle time', 'Velocity']\n"
     ]
    }
   ],
   "source": [
    "import joblib\n",
    "import pandas as pd\n",
    "from sklearn.metrics.pairwise import cosine_similarity\n",
    "\n",
    "# Carregar os modelos salvos\n",
    "vectorizer = joblib.load('tfidf_vectorizer_for_recommendation.joblib')\n",
    "svd = joblib.load('svd_model_for_recommendation.joblib')\n",
    "X_svd_transformed = joblib.load('svd_transformed_data_for_recommendation.joblib')\n",
    "\n",
    "# Carregar o dataset para as recomendações\n",
    "df = pd.read_excel('ready_for_filtering.xlsx')\n",
    "df.fillna('', inplace=True)\n",
    "\n",
    "# Função para recomendar métricas para um novo usuário\n",
    "def recommend_metrics_for_new_user(new_user_data, vectorizer, svd, X_svd_transformed, df, top_n=5):\n",
    "    # Vetorizar o novo perfil usando o mesmo TF-IDF vectorizer\n",
    "    new_user_tfidf = vectorizer.transform([new_user_data])\n",
    "    \n",
    "    # Reduzir dimensionalidade com SVD\n",
    "    new_user_svd = svd.transform(new_user_tfidf)\n",
    "    \n",
    "    # Calcular a similaridade entre o novo perfil e todos os perfis existentes\n",
    "    cosine_sim_new_user = cosine_similarity(new_user_svd, X_svd_transformed).flatten()\n",
    "    \n",
    "    # Ordenar por similaridade (maior -> menor)\n",
    "    sim_scores = list(enumerate(cosine_sim_new_user))\n",
    "    sim_scores = sorted(sim_scores, key=lambda x: x[1], reverse=True)\n",
    "    \n",
    "    # Selecionar os top_n perfis mais semelhantes\n",
    "    sim_scores = sim_scores[:top_n]\n",
    "    \n",
    "    # Mostrar a similaridade dos perfis recomendados\n",
    "    print(f\"\\nPerfis mais semelhantes ao novo usuário:\")\n",
    "    for i, score in sim_scores:\n",
    "        print(f\"Perfil {i}: Similaridade = {score*100:.2f}% - Métrica recomendada: {df['sanitized_metrics'].iloc[i]}\")\n",
    "    \n",
    "    # Recomendar as métricas dos perfis mais semelhantes\n",
    "    recommended_metrics = [df['sanitized_metrics'].iloc[i] for i, _ in sim_scores]\n",
    "    \n",
    "    return recommended_metrics\n",
    "\n",
    "user_profiles = [\n",
    "    'productowner6a9grandeempresascrumsimsimnãonãosimcronogramaeprogressoprodutocliente',\n",
    "    'teamleadermaisde20grandeempresascrumscrumbankanbansimsimnãonãosimprodutoprocesso'\n",
    "]\n",
    "\n",
    "# Simular métricas recomendadas para cada perfil de usuário\n",
    "for user_data in user_profiles:\n",
    "    recommended_metrics = recommend_metrics_for_new_user(user_data, vectorizer, svd, X_svd_transformed, df, top_n=5)\n",
    "    print(f\"\\nMétricas recomendadas para o usuário ({user_data}): {recommended_metrics}\")\n"
   ]
  }
 ],
 "metadata": {
  "kernelspec": {
   "display_name": "tcc_env",
   "language": "python",
   "name": "python3"
  },
  "language_info": {
   "codemirror_mode": {
    "name": "ipython",
    "version": 3
   },
   "file_extension": ".py",
   "mimetype": "text/x-python",
   "name": "python",
   "nbconvert_exporter": "python",
   "pygments_lexer": "ipython3",
   "version": "3.12.2"
  }
 },
 "nbformat": 4,
 "nbformat_minor": 2
}
